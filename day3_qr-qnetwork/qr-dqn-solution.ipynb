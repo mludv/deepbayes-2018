{
 "cells": [
  {
   "cell_type": "markdown",
   "metadata": {},
   "source": [
    "# Distributional Reinforcement Learning with Quantile Regression"
   ]
  },
  {
   "cell_type": "code",
   "execution_count": null,
   "metadata": {},
   "outputs": [],
   "source": [
    "import gym\n",
    "import torch\n",
    "import pickle\n",
    "import random\n",
    "import numpy as np\n",
    "import torch.nn as nn\n",
    "import torch.optim as optim\n",
    "\n",
    "from logger import Logger\n",
    "from rl_utils import ReplayMemory, huber"
   ]
  },
  {
   "cell_type": "code",
   "execution_count": null,
   "metadata": {},
   "outputs": [],
   "source": [
    "class Network(nn.Module):\n",
    "    def __init__(self, len_state, num_quant, num_actions):\n",
    "        nn.Module.__init__(self)\n",
    "        \n",
    "        self.num_quant = num_quant\n",
    "        self.num_actions = num_actions\n",
    "        \n",
    "        self.layer1 = nn.Linear(len_state, 256)\n",
    "        self.layer2 = nn.Linear(256, num_actions*num_quant)  \n",
    "\n",
    "    def forward(self, x):\n",
    "        x = self.layer1(x)\n",
    "        x = torch.tanh(x)\n",
    "        x = self.layer2(x)\n",
    "        return x.view(-1, self.num_actions, self.num_quant)\n",
    "    \n",
    "    def select_action(self, state, eps):\n",
    "        if not isinstance(state, torch.Tensor): \n",
    "            state = torch.Tensor([state])    \n",
    "        action = torch.randint(0, 2, (1,))\n",
    "        if random.random() > eps:\n",
    "            action = self.forward(state).mean(2).max(1)[1]\n",
    "        return int(action)"
   ]
  },
  {
   "cell_type": "code",
   "execution_count": null,
   "metadata": {},
   "outputs": [],
   "source": [
    "eps_start, eps_end, eps_dec = 0.9, 0.1, 500 \n",
    "eps = lambda steps: eps_end + (eps_start - eps_end) * np.exp(-1. * steps / eps_dec)"
   ]
  },
  {
   "cell_type": "code",
   "execution_count": null,
   "metadata": {},
   "outputs": [],
   "source": [
    "env_name = 'MountainCar-v0'\n",
    "env = gym.make(env_name)\n",
    "\n",
    "memory = ReplayMemory(10000)\n",
    "logger = Logger('q-net', fmt={'loss': '.5f'})"
   ]
  },
  {
   "cell_type": "code",
   "execution_count": null,
   "metadata": {},
   "outputs": [],
   "source": [
    "Z = Network(len_state=len(env.reset()), num_quant=2, num_actions=env.action_space.n)\n",
    "Ztgt = Network(len_state=len(env.reset()), num_quant=2, num_actions=env.action_space.n)\n",
    "optimizer = optim.Adam(Z.parameters(), 1e-3)"
   ]
  },
  {
   "cell_type": "code",
   "execution_count": null,
   "metadata": {},
   "outputs": [],
   "source": [
    "steps_done = 0\n",
    "running_reward = None\n",
    "gamma, batch_size = 0.99, 32 \n",
    "tau = torch.Tensor((2 * np.arange(Z.num_quant) + 1) / (2.0 * Z.num_quant)).view(1, -1)"
   ]
  },
  {
   "cell_type": "code",
   "execution_count": null,
   "metadata": {},
   "outputs": [],
   "source": [
    "for episode in range(501): \n",
    "    sum_reward = 0\n",
    "    state = env.reset()\n",
    "    while True:\n",
    "        steps_done += 1\n",
    "        \n",
    "        action = Z.select_action(torch.Tensor([state]), eps(steps_done))\n",
    "        next_state, reward, done, _ = env.step(action)\n",
    "\n",
    "        memory.push(state, action, next_state, reward, float(done))\n",
    "        sum_reward += reward\n",
    "        \n",
    "        if len(memory) < batch_size: break    \n",
    "        states, actions, rewards, next_states, dones = memory.sample(batch_size)\n",
    "        \n",
    "        theta = Z(states)[np.arange(batch_size), actions]\n",
    "        \n",
    "        Znext = Ztgt(next_states).detach()\n",
    "        Znext_max = Znext[np.arange(batch_size), Znext.mean(2).max(1)[1]]\n",
    "        Ttheta = rewards + gamma * (1 - dones) * Znext_max\n",
    "        \n",
    "        diff = Ttheta.t().unsqueeze(-1) - theta \n",
    "        loss = huber(diff) * (tau - (diff.detach() < 0).float()).abs()\n",
    "        loss = loss.mean()\n",
    "\n",
    "        optimizer.zero_grad()\n",
    "        loss.backward()\n",
    "        optimizer.step()\n",
    "        state = next_state\n",
    "        \n",
    "        if steps_done % 100 == 0:\n",
    "            Ztgt.load_state_dict(Z.state_dict())\n",
    "            \n",
    "        if done and episode % 50 == 0:\n",
    "            logger.add(episode, steps=steps_done, running_reward=running_reward, loss=loss.data.numpy())\n",
    "            logger.iter_info()\n",
    "            \n",
    "        if done: \n",
    "            running_reward = sum_reward  if not running_reward else 0.2 * sum_reward + running_reward*0.8\n",
    "            break"
   ]
  },
  {
   "cell_type": "markdown",
   "metadata": {},
   "source": [
    "# Vizualization"
   ]
  },
  {
   "cell_type": "code",
   "execution_count": null,
   "metadata": {},
   "outputs": [],
   "source": [
    "import time\n",
    "import matplotlib.pyplot as plt\n",
    "from IPython import display\n",
    "%matplotlib inline\n",
    "\n",
    "from matplotlib import rcParams\n",
    "rcParams['figure.figsize'] = 8, 3\n",
    "rcParams['figure.dpi'] = 300"
   ]
  },
  {
   "cell_type": "code",
   "execution_count": null,
   "metadata": {},
   "outputs": [],
   "source": [
    "actions={\n",
    "    'CartPole-v0': ['Left', 'Right'],\n",
    "    'MountainCar-v0': ['Left', 'Non', 'Right'],\n",
    "}"
   ]
  },
  {
   "cell_type": "code",
   "execution_count": null,
   "metadata": {},
   "outputs": [],
   "source": [
    "def get_plot(q):\n",
    "    eps, p = 1e-8, 0\n",
    "    x, y = [q[0]-np.abs(q[0]*0.2)], [0]\n",
    "    for i in range(0, len(q)):\n",
    "        x += [q[i]-eps, q[i]]\n",
    "        y += [p, p+1/len(q)]\n",
    "        p += 1/len(q)\n",
    "    x+=[q[i]+eps, q[i]+np.abs(q[i]*0.2)]\n",
    "    y+=[1.0, 1.0]\n",
    "    return x, y"
   ]
  },
  {
   "cell_type": "code",
   "execution_count": null,
   "metadata": {},
   "outputs": [],
   "source": [
    "state, done, steps = env.reset(), False, 0\n",
    "while True:\n",
    "    plt.clf()\n",
    "    steps += 1\n",
    "    action = Z.select_action(torch.Tensor([state]), eps(steps_done))\n",
    "    state, reward, done, _ = env.step(action)\n",
    "    \n",
    "    plt.subplot(1, 2, 1)\n",
    "    plt.title('step = %s' % steps)\n",
    "    plt.imshow(env.render(mode='rgb_array'))\n",
    "    plt.axis('off')\n",
    "\n",
    "    plt.subplot(1, 2, 2)\n",
    "    Zval = Z(torch.Tensor([state])).detach().numpy()\n",
    "    for i in range(env.action_space.n):\n",
    "        x, y = get_plot(Zval[0][i])\n",
    "        plt.plot(x, y, label='%s Q=%.1f' % (actions[env_name][i], Zval[0][i].mean()))\n",
    "        plt.legend(bbox_to_anchor=(1.0, 1.1), ncol=3, prop={'size': 6})\n",
    "    \n",
    "    if done: break\n",
    "    display.clear_output(wait=True)\n",
    "    display.display(plt.gcf())\n",
    "    plt.savefig('img/%s.png' % steps)\n",
    "plt.clf()"
   ]
  },
  {
   "cell_type": "code",
   "execution_count": null,
   "metadata": {},
   "outputs": [],
   "source": []
  }
 ],
 "metadata": {
  "language_info": {
   "name": "python",
   "pygments_lexer": "ipython3"
  }
 },
 "nbformat": 4,
 "nbformat_minor": 2
}
